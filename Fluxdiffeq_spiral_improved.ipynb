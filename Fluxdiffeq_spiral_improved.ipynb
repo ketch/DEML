{
 "cells": [
  {
   "cell_type": "code",
   "execution_count": null,
   "metadata": {},
   "outputs": [],
   "source": [
    "using Flux\n",
    "using DiffEqFlux\n",
    "using DifferentialEquations\n",
    "using Plots\n",
    "using Printf\n",
    "using Random"
   ]
  },
  {
   "cell_type": "code",
   "execution_count": null,
   "metadata": {},
   "outputs": [],
   "source": [
    "batch_time = 10\n",
    "batch_size = 20\n",
    "\n",
    "u0 = Float32[2.; 0.]\n",
    "datasize = 1000\n",
    "tspan = (0., 25.)\n",
    "\n",
    "function trueODEfunc(du, u, p, t)\n",
    "    true_A = [-0.1 2.0; -2.0 -0.1]\n",
    "    du .= true_A' * (u.^3)\n",
    "end\n",
    "\n",
    "t = range(tspan[1], tspan[2], length=datasize)\n",
    "prob = ODEProblem(trueODEfunc, u0, tspan)\n",
    "ode_data = Array(solve(prob,Tsit5(), saveat=t))\n",
    "\n",
    "N = 50\n",
    "Random.seed!(2)\n",
    "dudt = Chain(x->x.^3, Dense(2,N,tanh),Dense(N,2))\n",
    "ps = Flux.params(dudt)\n",
    "n_ode = u0 -> neural_ode(dudt, u0, tspan, Tsit5(), saveat=t, reltol=1e-7, abstol=1e-9)\n",
    "#n_ode = u0 -> neural_ode(gpu(dudt), gpu(u0), tspan, Tsit5(), saveat=t, reltol=1e-7, abstol=1e-9)\n",
    "\n",
    "pred = n_ode(u0)\n",
    "scatter(t, ode_data[1,:], label=\"data\")\n",
    "scatter!(t, Flux.data(pred[1,:]), label=\"prediction\")"
   ]
  },
  {
   "cell_type": "code",
   "execution_count": null,
   "metadata": {},
   "outputs": [],
   "source": [
    "u0 = Float32[2.; 0.]\n",
    "t = range(tspan[1], tspan[2], length=datasize)\n",
    "prob = ODEProblem(trueODEfunc, u0, tspan)\n",
    "ode_data = Array(solve(prob,Tsit5(), saveat=t));"
   ]
  },
  {
   "cell_type": "code",
   "execution_count": null,
   "metadata": {},
   "outputs": [],
   "source": [
    "function predict_n_ode()\n",
    "    n_ode(u0)\n",
    "end\n",
    "\n",
    "opt = RMSProp(0.001)"
   ]
  },
  {
   "cell_type": "code",
   "execution_count": null,
   "metadata": {},
   "outputs": [],
   "source": [
    "tt = t[1:batch_time]\n",
    "\n",
    "function make_minibatch(batch_size, batch_time)\n",
    "    u0 = 4*rand(2,batch_size) .- 2\n",
    "    prob = ODEProblem(trueODEfunc, u0, extrema(tt))\n",
    "    batch_u = solve(prob, Tsit5(), saveat=tt, reltol=1e-7, abstol=1e-9)\n",
    "    return [(u0, batch_u.u)]\n",
    "end\n",
    "\n",
    "function loss_n_ode(u0, u)\n",
    "    ode_data = neural_ode(dudt, u0, extrema(tt), Tsit5(), saveat=tt, reltol=1e-7, abstol=1e-9)\n",
    "    L = 0\n",
    "    for idx in 1:10\n",
    "        L += sum(abs2, ode_data[:,:,idx] .- u[idx])\n",
    "    end\n",
    "    return L\n",
    "end"
   ]
  },
  {
   "cell_type": "code",
   "execution_count": null,
   "metadata": {},
   "outputs": [],
   "source": [
    "loss_one_trajectory() = sum(abs2, ode_data .- n_ode(u0))\n",
    "\n",
    "cb = function ()\n",
    "    cur_pred = Flux.data(predict_n_ode())\n",
    "    fig = scatter(t, ode_data[1,:], label=\"data\")\n",
    "    scatter!(fig, t, cur_pred[1,:], label=\"prediction\")\n",
    "    plot!(fig, title=@sprintf(\"Loss = %.2e\", Flux.data(loss_one_trajectory())))\n",
    "    IJulia.clear_output(true)\n",
    "    display(fig)\n",
    "end\n",
    "\n",
    "\n",
    "#Flux.throttle(cb, 2);\n",
    "for epoch_idx in 1:1000\n",
    "    opt = RMSProp(0.001)#/(epoch_idx))\n",
    "    batch_data = make_minibatch(batch_size, batch_time)\n",
    "    Flux.train!(loss_n_ode, ps, batch_data, opt, cb=cb)\n",
    "end"
   ]
  },
  {
   "cell_type": "markdown",
   "metadata": {},
   "source": [
    "## Can we predict accurately for other initial data?"
   ]
  },
  {
   "cell_type": "code",
   "execution_count": null,
   "metadata": {},
   "outputs": [],
   "source": [
    "u0 = Float32[2.0; 0.]\n",
    "\n",
    "prob2 = ODEProblem(trueODEfunc,u0,tspan)\n",
    "ode_data = Array(solve(prob2,Tsit5(),saveat=t))\n",
    "\n",
    "pred = n_ode(u0)\n",
    "scatter(t, ode_data[1,:],label=\"data\")\n",
    "scatter!(t,Flux.data(pred[1,:]),label=\"prediction\")"
   ]
  },
  {
   "cell_type": "code",
   "execution_count": null,
   "metadata": {},
   "outputs": [],
   "source": [
    "u0 = Float32[1.9; 0.]\n",
    "\n",
    "prob2 = ODEProblem(trueODEfunc,u0,tspan)\n",
    "ode_data = Array(solve(prob2,Tsit5(),saveat=t))\n",
    "\n",
    "pred = n_ode(u0)\n",
    "scatter(t, ode_data[1,:],label=\"data\")\n",
    "scatter!(t,Flux.data(pred[1,:]),label=\"prediction\")"
   ]
  },
  {
   "cell_type": "code",
   "execution_count": null,
   "metadata": {},
   "outputs": [],
   "source": [
    "u0 = Float32[1.0; 0.]\n",
    "\n",
    "prob2 = ODEProblem(trueODEfunc,u0,tspan)\n",
    "ode_data = Array(solve(prob2,Tsit5(),saveat=t))\n",
    "\n",
    "pred = n_ode(u0)\n",
    "scatter(t, ode_data[1,:],label=\"data\")\n",
    "scatter!(t,Flux.data(pred[1,:]),label=\"prediction\")"
   ]
  },
  {
   "cell_type": "markdown",
   "metadata": {},
   "source": [
    "## Can we extrapolate to longer times?"
   ]
  },
  {
   "cell_type": "code",
   "execution_count": null,
   "metadata": {},
   "outputs": [],
   "source": [
    "tspan = (0.,3.)\n",
    "u0 = Float32[2.0; 0.]\n",
    "\n",
    "t = range(tspan[1], tspan[2], length=datasize)\n",
    "prob2 = ODEProblem(trueODEfunc,u0,tspan)\n",
    "ode_data = Array(solve(prob2,Tsit5(),saveat=t))\n",
    "\n",
    "pred = n_ode(u0)\n",
    "scatter(t, ode_data[1,:],label=\"data\")\n",
    "scatter!(t,Flux.data(pred[1,:]),label=\"prediction\")"
   ]
  },
  {
   "cell_type": "code",
   "execution_count": null,
   "metadata": {},
   "outputs": [],
   "source": []
  }
 ],
 "metadata": {
  "kernelspec": {
   "display_name": "Julia 1.2.0",
   "language": "julia",
   "name": "julia-1.2"
  },
  "language_info": {
   "file_extension": ".jl",
   "mimetype": "application/julia",
   "name": "julia",
   "version": "1.2.0"
  },
  "toc": {
   "base_numbering": 1,
   "nav_menu": {},
   "number_sections": true,
   "sideBar": true,
   "skip_h1_title": false,
   "title_cell": "Table of Contents",
   "title_sidebar": "Contents",
   "toc_cell": false,
   "toc_position": {},
   "toc_section_display": true,
   "toc_window_display": false
  }
 },
 "nbformat": 4,
 "nbformat_minor": 2
}
