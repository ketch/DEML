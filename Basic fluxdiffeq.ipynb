{
 "cells": [
  {
   "cell_type": "code",
   "execution_count": null,
   "metadata": {},
   "outputs": [],
   "source": [
    "using Flux\n",
    "using DifferentialEquations\n",
    "using Plots\n",
    "using DiffEqFlux"
   ]
  },
  {
   "cell_type": "code",
   "execution_count": null,
   "metadata": {},
   "outputs": [],
   "source": [
    "function lotka_volterra(du,u,p,t)\n",
    "    x, y = u\n",
    "    α, β, δ, γ = p\n",
    "    du[1] = dx = α*x - β*x*y\n",
    "    du[2] = dy = -δ*y + γ*x*y\n",
    "end\n",
    "\n",
    "u0 = [1.0, 1.0]\n",
    "tspan = (0., 10.)\n",
    "p = [1.5, 1., 3., 1.]\n",
    "prob = ODEProblem(lotka_volterra,u0,tspan,p)"
   ]
  },
  {
   "cell_type": "code",
   "execution_count": null,
   "metadata": {},
   "outputs": [],
   "source": [
    "soln = solve(prob)\n",
    "plot(soln)"
   ]
  },
  {
   "cell_type": "code",
   "execution_count": null,
   "metadata": {},
   "outputs": [],
   "source": [
    "ret, soln = diffeq_rd(p, prob, Tsit5(), saveat=0.1)\n",
    "plot(soln.t,[u[1] for u in soln.u])"
   ]
  },
  {
   "cell_type": "code",
   "execution_count": null,
   "metadata": {},
   "outputs": [],
   "source": [
    "p = param([2.2, 1.0, 2.0, 0.4])\n",
    "params = Flux.Params([p])"
   ]
  },
  {
   "cell_type": "code",
   "execution_count": null,
   "metadata": {},
   "outputs": [],
   "source": [
    "function predict_rd()\n",
    "    diffeq_rd(p, prob, Tsit5(), saveat=0.1)[1,:]\n",
    "end\n",
    "\n",
    "loss_rd() = sum(abs2, x-1 for x in predict_rd())\n",
    "loss_rd()"
   ]
  },
  {
   "cell_type": "code",
   "execution_count": null,
   "metadata": {},
   "outputs": [],
   "source": [
    "data = Iterators.repeated((), 100)\n",
    "opt = ADAM(0.1)\n",
    "cb = function ()\n",
    "        display(loss_rd())\n",
    "        display(plot(solve(remake(prob,p=Flux.data(p)),Tsit5(),saveat=0.1),ylim=(0,6)))\n",
    "    end"
   ]
  },
  {
   "cell_type": "code",
   "execution_count": null,
   "metadata": {},
   "outputs": [],
   "source": [
    "cb()"
   ]
  },
  {
   "cell_type": "code",
   "execution_count": null,
   "metadata": {
    "scrolled": true
   },
   "outputs": [],
   "source": [
    "Flux.train!(loss_rd, params, data, opt, cb=cb)"
   ]
  },
  {
   "cell_type": "markdown",
   "metadata": {},
   "source": [
    "# Section 7"
   ]
  },
  {
   "cell_type": "code",
   "execution_count": null,
   "metadata": {},
   "outputs": [],
   "source": [
    "dudt = Chain(Dense(2,50,tanh),Dense(50,2))"
   ]
  },
  {
   "cell_type": "code",
   "execution_count": null,
   "metadata": {},
   "outputs": [],
   "source": [
    "tspan = (0.,25.)\n",
    "x -> neural_ode(dudt,x,tspan,Tsit5(),saveat=0.1) # Not on GPU!"
   ]
  },
  {
   "cell_type": "code",
   "execution_count": null,
   "metadata": {},
   "outputs": [],
   "source": [
    "u0 = Float32[2.; 0.]\n",
    "datasize = 30\n",
    "tspan = (0., 1.5)"
   ]
  },
  {
   "cell_type": "code",
   "execution_count": null,
   "metadata": {},
   "outputs": [],
   "source": [
    "function trueODEfunc(du, u, p, t)\n",
    "    true_A = [-0.1 2.0; -2.0 -0.1]\n",
    "    du .= ((u.^3)'true_A)'\n",
    "end\n",
    "t = range(tspan[1], tspan[2], length=datasize)\n",
    "prob = ODEProblem(trueODEfunc,u0,tspan)\n",
    "ode_data = Array(solve(prob,Tsit5(),saveat=t))"
   ]
  },
  {
   "cell_type": "code",
   "execution_count": null,
   "metadata": {},
   "outputs": [],
   "source": [
    "using Random\n",
    "Random.seed!(1)\n",
    "dudt = Chain(x->x.^3, Dense(2,50,tanh),Dense(50,2))\n",
    "ps = Flux.params(dudt)\n",
    "n_ode = x->neural_ode(dudt,x,tspan,Tsit5(),saveat=t,reltol=1e-7,abstol=1e-9)"
   ]
  },
  {
   "cell_type": "code",
   "execution_count": null,
   "metadata": {},
   "outputs": [],
   "source": [
    "pred = n_ode(u0)\n",
    "scatter(t, ode_data[1,:],label=\"data\")\n",
    "scatter!(t,Flux.data(pred[1,:]),label=\"prediction\")"
   ]
  },
  {
   "cell_type": "code",
   "execution_count": null,
   "metadata": {},
   "outputs": [],
   "source": [
    "function predict_n_ode()\n",
    "    n_ode(u0)\n",
    "end\n",
    "loss_n_ode() = sum(abs2, ode_data .- predict_n_ode())\n",
    "data = Iterators.repeated((), 100)\n",
    "opt = ADAM(0.1)\n",
    "cb = function ()\n",
    "    display(loss_n_ode())\n",
    "    cur_pred = Flux.data(predict_n_ode())\n",
    "    pl = scatter(t, ode_data[1,:], label=\"data\")\n",
    "    scatter!(pl,t,cur_pred[1,:],label=\"prediction\")\n",
    "    display(plot(pl))\n",
    "end"
   ]
  },
  {
   "cell_type": "code",
   "execution_count": null,
   "metadata": {},
   "outputs": [],
   "source": [
    "cb()"
   ]
  },
  {
   "cell_type": "code",
   "execution_count": null,
   "metadata": {
    "scrolled": false
   },
   "outputs": [],
   "source": [
    "Flux.train!(loss_n_ode,ps,data,opt,cb=cb)"
   ]
  },
  {
   "cell_type": "code",
   "execution_count": null,
   "metadata": {},
   "outputs": [],
   "source": []
  }
 ],
 "metadata": {
  "kernelspec": {
   "display_name": "Julia 1.1.1",
   "language": "julia",
   "name": "julia-1.1"
  },
  "language_info": {
   "file_extension": ".jl",
   "mimetype": "application/julia",
   "name": "julia",
   "version": "1.1.1"
  },
  "toc": {
   "base_numbering": 1,
   "nav_menu": {},
   "number_sections": true,
   "sideBar": true,
   "skip_h1_title": false,
   "title_cell": "Table of Contents",
   "title_sidebar": "Contents",
   "toc_cell": false,
   "toc_position": {},
   "toc_section_display": true,
   "toc_window_display": false
  }
 },
 "nbformat": 4,
 "nbformat_minor": 2
}
