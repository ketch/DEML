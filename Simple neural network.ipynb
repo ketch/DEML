{
 "cells": [
  {
   "cell_type": "markdown",
   "metadata": {},
   "source": [
    "This is essentially a translation to Python of the code in the 2018 article by Higham & Higham."
   ]
  },
  {
   "cell_type": "code",
   "execution_count": null,
   "metadata": {},
   "outputs": [],
   "source": [
    "import numpy as np\n",
    "import matplotlib.pyplot as plt"
   ]
  },
  {
   "cell_type": "code",
   "execution_count": null,
   "metadata": {},
   "outputs": [],
   "source": [
    "# Data\n",
    "x1 = [0.1, 0.3, 0.1, 0.6, 0.4, 0.6, 0.5, 0.9, 0.4, 0.7]\n",
    "x2 = [0.1, 0.4, 0.5, 0.9, 0.2, 0.3, 0.6, 0.2, 0.4, 0.6]\n",
    "y =  np.zeros( (2, 10) ); y[0,:5]=1.; y[1,-5:]=1."
   ]
  },
  {
   "cell_type": "code",
   "execution_count": null,
   "metadata": {},
   "outputs": [],
   "source": [
    "# Initialize weights and biases\n",
    "nn = [2,3,2]\n",
    "W2 = 0.5*np.random.randn(nn[0],2)\n",
    "W3 = 0.5*np.random.randn(nn[1],nn[0])\n",
    "W4 = 0.5*np.random.randn(nn[2],nn[1])\n",
    "b2 = 0.5*np.random.randn(nn[0])\n",
    "b3 = 0.5*np.random.randn(nn[1])\n",
    "b4 = 0.5*np.random.randn(nn[2])"
   ]
  },
  {
   "cell_type": "code",
   "execution_count": null,
   "metadata": {},
   "outputs": [],
   "source": [
    "def activate(x, W, b):\n",
    "    return 1./(1+np.exp(-(W@x+b)))"
   ]
  },
  {
   "cell_type": "code",
   "execution_count": null,
   "metadata": {},
   "outputs": [],
   "source": [
    "def cost(W2, W3, W4, b2, b3, b4):\n",
    "    costvec = np.zeros(10)\n",
    "    for i in range(10):\n",
    "        x = [x1[i],x2[i]]\n",
    "        a2 = activate(x,W2,b2)\n",
    "        a3 = activate(a2,W3,b3)\n",
    "        a4 = activate(a3,W4,b4)\n",
    "        costvec[i] = np.linalg.norm(y[:,i]-a4,2)\n",
    "    return sum(costvec**2)"
   ]
  },
  {
   "cell_type": "code",
   "execution_count": null,
   "metadata": {},
   "outputs": [],
   "source": [
    "# Forward and back propagation\n",
    "\n",
    "eta = 0.05  # Learning rate\n",
    "Niter = 1000000  # Number of stochastic gradient iterations\n",
    "obj = np.zeros(Niter)  # value of cost function at each iteration\n",
    "\n",
    "for counter in range(Niter):\n",
    "    k = np.random.randint(10)  # Choose a training point at random\n",
    "    x = [x1[k], x2[k]]\n",
    "    # Forward pass\n",
    "    a2 = activate(x,W2,b2)\n",
    "    a3 = activate(a2,W3,b3)\n",
    "    a4 = activate(a3,W4,b4)\n",
    "    # Backward pass\n",
    "    delta4 = a4*(1-a4)*(a4-y[:,k])\n",
    "    delta3 = a3*(1-a3)*np.dot(W4.T,delta4)\n",
    "    delta2 = a2*(1-a2)*np.dot(W3.T,delta3)\n",
    "    # Gradient step\n",
    "    W2 = W2 - eta*np.outer(delta2,x)\n",
    "    W3 = W3 - eta*np.outer(delta3,a2)\n",
    "    W4 = W4 - eta*np.outer(delta4,a3)\n",
    "    b2 = b2 - eta*delta2\n",
    "    b3 = b3 - eta*delta3\n",
    "    b4 = b4 - eta*delta4\n",
    "    # Monitor progress\n",
    "    newobj = cost(W2, W3, W4, b2, b3, b4)\n",
    "    obj[counter] = newobj\n",
    "    \n",
    "plt.semilogy(range(Niter),obj)"
   ]
  },
  {
   "cell_type": "code",
   "execution_count": null,
   "metadata": {},
   "outputs": [],
   "source": [
    "def evalnet(x):\n",
    "    a2 = activate(x,W2,b2)\n",
    "    a3 = activate(a2,W3,b3)\n",
    "    a4 = activate(a3,W4,b4)\n",
    "    return a4"
   ]
  },
  {
   "cell_type": "code",
   "execution_count": null,
   "metadata": {},
   "outputs": [],
   "source": [
    "# Plot result\n",
    "N = 100\n",
    "x = np.linspace(0,1,N)\n",
    "X, Y = np.meshgrid(x,x)\n",
    "vals = np.zeros_like(X)\n",
    "for i in range(N):\n",
    "    for j in range(N):\n",
    "        result = evalnet([X[i,j],Y[i,j]])\n",
    "        vals[i,j] = 1.*(result[0]>result[1])\n",
    "        \n",
    "plt.contour(X,Y,vals,[0.5],filled=True)\n",
    "for i in range(5):\n",
    "    plt.plot(x1[i],x2[i],'ro')\n",
    "    plt.plot(x1[i+5],x2[i+5],'bx')"
   ]
  },
  {
   "cell_type": "code",
   "execution_count": null,
   "metadata": {},
   "outputs": [],
   "source": []
  }
 ],
 "metadata": {
  "kernelspec": {
   "display_name": "Python 3",
   "language": "python",
   "name": "python3"
  },
  "language_info": {
   "codemirror_mode": {
    "name": "ipython",
    "version": 3
   },
   "file_extension": ".py",
   "mimetype": "text/x-python",
   "name": "python",
   "nbconvert_exporter": "python",
   "pygments_lexer": "ipython3",
   "version": "3.6.5"
  },
  "toc": {
   "base_numbering": 1,
   "nav_menu": {},
   "number_sections": true,
   "sideBar": true,
   "skip_h1_title": false,
   "title_cell": "Table of Contents",
   "title_sidebar": "Contents",
   "toc_cell": false,
   "toc_position": {},
   "toc_section_display": true,
   "toc_window_display": false
  }
 },
 "nbformat": 4,
 "nbformat_minor": 2
}
